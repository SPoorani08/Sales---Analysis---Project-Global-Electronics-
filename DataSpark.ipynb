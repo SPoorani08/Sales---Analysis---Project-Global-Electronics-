{
 "cells": [
  {
   "cell_type": "code",
   "execution_count": 1,
   "id": "a2d076c4-aff9-4848-b25d-a60ed811cde2",
   "metadata": {},
   "outputs": [],
   "source": [
    "import pandas as pd\n",
    "import numpy as np"
   ]
  },
  {
   "cell_type": "code",
   "execution_count": 2,
   "id": "46183958-54fb-4b2e-b01e-9b7465a94d8c",
   "metadata": {},
   "outputs": [],
   "source": [
    "Sales = pd.read_csv(\"Sales.csv\")\n",
    "Customers = pd.read_csv('Customers.csv',encoding='ISO-8859-1')  #ISO - encoding cannot properly decode certain bytes in the file\n",
    "Products = pd.read_csv(\"Products.csv\")\n",
    "Stores = pd.read_csv(\"Stores.csv\")\n",
    "Exchange_Rates = pd.read_csv(\"Exchange_Rates.csv\")"
   ]
  },
  {
   "cell_type": "markdown",
   "id": "61db3b54-2903-4855-83e7-5e9b0ae8220c",
   "metadata": {},
   "source": [
    "## Data Cleaning"
   ]
  },
  {
   "cell_type": "code",
   "execution_count": 3,
   "id": "3b822de3-0fb1-49f2-9907-47e2893833ba",
   "metadata": {},
   "outputs": [
    {
     "data": {
      "text/html": [
       "<div>\n",
       "<style scoped>\n",
       "    .dataframe tbody tr th:only-of-type {\n",
       "        vertical-align: middle;\n",
       "    }\n",
       "\n",
       "    .dataframe tbody tr th {\n",
       "        vertical-align: top;\n",
       "    }\n",
       "\n",
       "    .dataframe thead th {\n",
       "        text-align: right;\n",
       "    }\n",
       "</style>\n",
       "<table border=\"1\" class=\"dataframe\">\n",
       "  <thead>\n",
       "    <tr style=\"text-align: right;\">\n",
       "      <th></th>\n",
       "      <th>Order Number</th>\n",
       "      <th>Line Item</th>\n",
       "      <th>Order Date</th>\n",
       "      <th>Delivery Date</th>\n",
       "      <th>CustomerKey</th>\n",
       "      <th>StoreKey</th>\n",
       "      <th>ProductKey</th>\n",
       "      <th>Quantity</th>\n",
       "      <th>Currency Code</th>\n",
       "    </tr>\n",
       "  </thead>\n",
       "  <tbody>\n",
       "    <tr>\n",
       "      <th>0</th>\n",
       "      <td>366000</td>\n",
       "      <td>1</td>\n",
       "      <td>01-01-2016</td>\n",
       "      <td>NaN</td>\n",
       "      <td>265598</td>\n",
       "      <td>10</td>\n",
       "      <td>1304</td>\n",
       "      <td>1</td>\n",
       "      <td>CAD</td>\n",
       "    </tr>\n",
       "    <tr>\n",
       "      <th>1</th>\n",
       "      <td>366001</td>\n",
       "      <td>1</td>\n",
       "      <td>01-01-2016</td>\n",
       "      <td>1/13/2016</td>\n",
       "      <td>1269051</td>\n",
       "      <td>0</td>\n",
       "      <td>1048</td>\n",
       "      <td>2</td>\n",
       "      <td>USD</td>\n",
       "    </tr>\n",
       "    <tr>\n",
       "      <th>2</th>\n",
       "      <td>366001</td>\n",
       "      <td>2</td>\n",
       "      <td>01-01-2016</td>\n",
       "      <td>1/13/2016</td>\n",
       "      <td>1269051</td>\n",
       "      <td>0</td>\n",
       "      <td>2007</td>\n",
       "      <td>1</td>\n",
       "      <td>USD</td>\n",
       "    </tr>\n",
       "    <tr>\n",
       "      <th>3</th>\n",
       "      <td>366002</td>\n",
       "      <td>1</td>\n",
       "      <td>01-01-2016</td>\n",
       "      <td>01-12-2016</td>\n",
       "      <td>266019</td>\n",
       "      <td>0</td>\n",
       "      <td>1106</td>\n",
       "      <td>7</td>\n",
       "      <td>CAD</td>\n",
       "    </tr>\n",
       "    <tr>\n",
       "      <th>4</th>\n",
       "      <td>366002</td>\n",
       "      <td>2</td>\n",
       "      <td>01-01-2016</td>\n",
       "      <td>01-12-2016</td>\n",
       "      <td>266019</td>\n",
       "      <td>0</td>\n",
       "      <td>373</td>\n",
       "      <td>1</td>\n",
       "      <td>CAD</td>\n",
       "    </tr>\n",
       "    <tr>\n",
       "      <th>...</th>\n",
       "      <td>...</td>\n",
       "      <td>...</td>\n",
       "      <td>...</td>\n",
       "      <td>...</td>\n",
       "      <td>...</td>\n",
       "      <td>...</td>\n",
       "      <td>...</td>\n",
       "      <td>...</td>\n",
       "      <td>...</td>\n",
       "    </tr>\n",
       "    <tr>\n",
       "      <th>62879</th>\n",
       "      <td>2243030</td>\n",
       "      <td>1</td>\n",
       "      <td>2/20/2021</td>\n",
       "      <td>NaN</td>\n",
       "      <td>1216913</td>\n",
       "      <td>43</td>\n",
       "      <td>632</td>\n",
       "      <td>3</td>\n",
       "      <td>USD</td>\n",
       "    </tr>\n",
       "    <tr>\n",
       "      <th>62880</th>\n",
       "      <td>2243031</td>\n",
       "      <td>1</td>\n",
       "      <td>2/20/2021</td>\n",
       "      <td>2/24/2021</td>\n",
       "      <td>511229</td>\n",
       "      <td>0</td>\n",
       "      <td>98</td>\n",
       "      <td>4</td>\n",
       "      <td>EUR</td>\n",
       "    </tr>\n",
       "    <tr>\n",
       "      <th>62881</th>\n",
       "      <td>2243032</td>\n",
       "      <td>1</td>\n",
       "      <td>2/20/2021</td>\n",
       "      <td>2/23/2021</td>\n",
       "      <td>331277</td>\n",
       "      <td>0</td>\n",
       "      <td>1613</td>\n",
       "      <td>2</td>\n",
       "      <td>CAD</td>\n",
       "    </tr>\n",
       "    <tr>\n",
       "      <th>62882</th>\n",
       "      <td>2243032</td>\n",
       "      <td>2</td>\n",
       "      <td>2/20/2021</td>\n",
       "      <td>2/23/2021</td>\n",
       "      <td>331277</td>\n",
       "      <td>0</td>\n",
       "      <td>1717</td>\n",
       "      <td>2</td>\n",
       "      <td>CAD</td>\n",
       "    </tr>\n",
       "    <tr>\n",
       "      <th>62883</th>\n",
       "      <td>2243032</td>\n",
       "      <td>3</td>\n",
       "      <td>2/20/2021</td>\n",
       "      <td>2/23/2021</td>\n",
       "      <td>331277</td>\n",
       "      <td>0</td>\n",
       "      <td>464</td>\n",
       "      <td>7</td>\n",
       "      <td>CAD</td>\n",
       "    </tr>\n",
       "  </tbody>\n",
       "</table>\n",
       "<p>62884 rows × 9 columns</p>\n",
       "</div>"
      ],
      "text/plain": [
       "       Order Number  Line Item  Order Date Delivery Date  CustomerKey  \\\n",
       "0            366000          1  01-01-2016           NaN       265598   \n",
       "1            366001          1  01-01-2016     1/13/2016      1269051   \n",
       "2            366001          2  01-01-2016     1/13/2016      1269051   \n",
       "3            366002          1  01-01-2016    01-12-2016       266019   \n",
       "4            366002          2  01-01-2016    01-12-2016       266019   \n",
       "...             ...        ...         ...           ...          ...   \n",
       "62879       2243030          1   2/20/2021           NaN      1216913   \n",
       "62880       2243031          1   2/20/2021     2/24/2021       511229   \n",
       "62881       2243032          1   2/20/2021     2/23/2021       331277   \n",
       "62882       2243032          2   2/20/2021     2/23/2021       331277   \n",
       "62883       2243032          3   2/20/2021     2/23/2021       331277   \n",
       "\n",
       "       StoreKey  ProductKey  Quantity Currency Code  \n",
       "0            10        1304         1           CAD  \n",
       "1             0        1048         2           USD  \n",
       "2             0        2007         1           USD  \n",
       "3             0        1106         7           CAD  \n",
       "4             0         373         1           CAD  \n",
       "...         ...         ...       ...           ...  \n",
       "62879        43         632         3           USD  \n",
       "62880         0          98         4           EUR  \n",
       "62881         0        1613         2           CAD  \n",
       "62882         0        1717         2           CAD  \n",
       "62883         0         464         7           CAD  \n",
       "\n",
       "[62884 rows x 9 columns]"
      ]
     },
     "execution_count": 3,
     "metadata": {},
     "output_type": "execute_result"
    }
   ],
   "source": [
    "Sales"
   ]
  },
  {
   "cell_type": "code",
   "execution_count": 4,
   "id": "d0cfa0a9-6851-4133-8a92-111f4062a10f",
   "metadata": {},
   "outputs": [
    {
     "data": {
      "text/plain": [
       "Order Number     62884\n",
       "Line Item        62884\n",
       "Order Date       62884\n",
       "Delivery Date    13165\n",
       "CustomerKey      62884\n",
       "StoreKey         62884\n",
       "ProductKey       62884\n",
       "Quantity         62884\n",
       "Currency Code    62884\n",
       "dtype: int64"
      ]
     },
     "execution_count": 4,
     "metadata": {},
     "output_type": "execute_result"
    }
   ],
   "source": [
    "Sales.count()"
   ]
  },
  {
   "cell_type": "markdown",
   "id": "fbcfe1cd-752e-41d8-b8c6-f0a447a6043d",
   "metadata": {},
   "source": [
    "## Handle Sales Delivery Date Null Values and Data type change in date format"
   ]
  },
  {
   "cell_type": "code",
   "execution_count": 5,
   "id": "84d9d037-24ce-40d2-a56d-d42df6c9c3b5",
   "metadata": {},
   "outputs": [],
   "source": [
    "#change the format for order date and delivery date to d-mm-yyyy and calculate the average delivery days. \n",
    "#Using that Average filled the null values in delivery date"
   ]
  },
  {
   "cell_type": "code",
   "execution_count": 6,
   "id": "2f784301-f252-4362-ab08-47b9b68dd5be",
   "metadata": {},
   "outputs": [],
   "source": [
    "# Function to attempt date conversion with multiple formats\n",
    "def convert_to_date(date_value):\n",
    "    formats = ['%d-%m-%Y', '%m/%d/%Y']  # Define possible formats\n",
    "    for fmt in formats:\n",
    "        try:\n",
    "            return pd.to_datetime(date_value, format=fmt)\n",
    "        except (ValueError, TypeError):\n",
    "            continue\n",
    "    return pd.NaT  # Return NaT if all formats fail\n",
    "\n",
    "# Step 1: Apply the conversion function to the entire 'Order Date' column\n",
    "Sales['Order Date'] = Sales['Order Date'].apply(convert_to_date)\n",
    "Sales['Delivery Date'] = Sales['Delivery Date'].apply(convert_to_date)\n",
    "# Step 2: Ensure the 'Order Date' column is now datetime-like and format it to 'dd-mm-yyyy'\n",
    "Sales['Order Date'] = Sales['Order Date'].dt.strftime('%d-%m-%Y')\n",
    "Sales['Delivery Date'] = Sales['Delivery Date'].dt.strftime('%d-%m-%Y')"
   ]
  },
  {
   "cell_type": "code",
   "execution_count": 7,
   "id": "82960021-6790-4493-9fc8-3f3a7c910a78",
   "metadata": {},
   "outputs": [],
   "source": [
    "##Calculate average delivery days"
   ]
  },
  {
   "cell_type": "code",
   "execution_count": 8,
   "id": "22803bad-67d0-4763-9a62-9456af1fd2e9",
   "metadata": {},
   "outputs": [],
   "source": [
    "Sales['Order Date'] = pd.to_datetime(Sales['Order Date'], errors='coerce', format='%d-%m-%Y')\n",
    "Sales['Delivery Date'] = pd.to_datetime(Sales['Delivery Date'], errors='coerce', format='%d-%m-%Y')\n",
    "Avg_delivery_day = Sales['Delivery Date'] - Sales['Order Date']"
   ]
  },
  {
   "cell_type": "code",
   "execution_count": 9,
   "id": "45c047d1-734c-41b3-b1a3-afda60b2e7a4",
   "metadata": {},
   "outputs": [
    {
     "data": {
      "text/plain": [
       "Timedelta('8 days 20:29:13.376376756')"
      ]
     },
     "execution_count": 9,
     "metadata": {},
     "output_type": "execute_result"
    }
   ],
   "source": [
    "Avg_delivery_day.mean()"
   ]
  },
  {
   "cell_type": "code",
   "execution_count": 10,
   "id": "d074a782-7693-4de6-a948-6e5fc236a6a2",
   "metadata": {},
   "outputs": [],
   "source": [
    "Sales['Delivery Date'] = Sales['Delivery Date'].fillna(Sales['Order Date'] + pd.DateOffset(days=8))"
   ]
  },
  {
   "cell_type": "code",
   "execution_count": 11,
   "id": "79c6f295-491e-48f4-80eb-dde8ebe870cc",
   "metadata": {},
   "outputs": [
    {
     "name": "stdout",
     "output_type": "stream",
     "text": [
      "Order Date conversion complete. File saved as 'cleaned_sales_data.csv'.\n"
     ]
    }
   ],
   "source": [
    "Sales['Order Date'] = pd.to_datetime(Sales['Order Date'])\n",
    "Sales['Delivery Date'] = pd.to_datetime(Sales['Delivery Date'])\n",
    "Sales.to_csv('cleaned_sales_data.csv', index=False)\n",
    "print(\"Order Date conversion complete. File saved as 'cleaned_sales_data.csv'.\")"
   ]
  },
  {
   "cell_type": "code",
   "execution_count": 12,
   "id": "53e7073a-3029-4e5a-9862-7e50749a8334",
   "metadata": {},
   "outputs": [
    {
     "name": "stdout",
     "output_type": "stream",
     "text": [
      "<class 'pandas.core.frame.DataFrame'>\n",
      "RangeIndex: 62884 entries, 0 to 62883\n",
      "Data columns (total 9 columns):\n",
      " #   Column         Non-Null Count  Dtype         \n",
      "---  ------         --------------  -----         \n",
      " 0   Order Number   62884 non-null  int64         \n",
      " 1   Line Item      62884 non-null  int64         \n",
      " 2   Order Date     62884 non-null  datetime64[ns]\n",
      " 3   Delivery Date  62884 non-null  datetime64[ns]\n",
      " 4   CustomerKey    62884 non-null  int64         \n",
      " 5   StoreKey       62884 non-null  int64         \n",
      " 6   ProductKey     62884 non-null  int64         \n",
      " 7   Quantity       62884 non-null  int64         \n",
      " 8   Currency Code  62884 non-null  object        \n",
      "dtypes: datetime64[ns](2), int64(6), object(1)\n",
      "memory usage: 4.3+ MB\n"
     ]
    }
   ],
   "source": [
    "Sales.info()"
   ]
  },
  {
   "cell_type": "markdown",
   "id": "9a54b5d8-f266-4bfc-acfd-13eec810d87f",
   "metadata": {},
   "source": [
    "## Handle Customer - Birthday Date - Date format and Data type of Date format change"
   ]
  },
  {
   "cell_type": "code",
   "execution_count": 13,
   "id": "bf9b5518-d37e-48aa-994d-67f7a38b1adf",
   "metadata": {},
   "outputs": [
    {
     "name": "stdout",
     "output_type": "stream",
     "text": [
      "<class 'pandas.core.frame.DataFrame'>\n",
      "RangeIndex: 15266 entries, 0 to 15265\n",
      "Data columns (total 10 columns):\n",
      " #   Column       Non-Null Count  Dtype \n",
      "---  ------       --------------  ----- \n",
      " 0   CustomerKey  15266 non-null  int64 \n",
      " 1   Gender       15266 non-null  object\n",
      " 2   Name         15266 non-null  object\n",
      " 3   City         15266 non-null  object\n",
      " 4   State Code   15256 non-null  object\n",
      " 5   State        15266 non-null  object\n",
      " 6   Zip Code     15266 non-null  object\n",
      " 7   Country      15266 non-null  object\n",
      " 8   Continent    15266 non-null  object\n",
      " 9   Birthday     15266 non-null  object\n",
      "dtypes: int64(1), object(9)\n",
      "memory usage: 1.2+ MB\n"
     ]
    }
   ],
   "source": [
    "Customers.info()"
   ]
  },
  {
   "cell_type": "code",
   "execution_count": 14,
   "id": "475c4b7d-c90a-4876-a266-6c3ff9aff740",
   "metadata": {},
   "outputs": [
    {
     "name": "stdout",
     "output_type": "stream",
     "text": [
      "Customer Date conversion complete. File saved as 'cleaned_cutomers_data.csv'.\n"
     ]
    }
   ],
   "source": [
    "Customers = pd.read_csv('Customers.csv',encoding='ISO-8859-1')  #ISO - encoding cannot properly decode certain bytes in the file\n",
    "# Function to attempt date conversion with multiple formats\n",
    "def convert_to_date(date_value):\n",
    "    formats = ['%d-%m-%Y', '%m/%d/%Y']  # Define possible formats\n",
    "    for fmt in formats:\n",
    "        try:\n",
    "            return pd.to_datetime(date_value, format=fmt)\n",
    "        except (ValueError, TypeError):\n",
    "            continue\n",
    "    return pd.NaT  # Return NaT if all formats fail\n",
    "\n",
    "# Step 1: Apply the conversion function to the entire 'Order Date' column\n",
    "Customers['Birthday'] = Customers['Birthday'].apply(convert_to_date)\n",
    "# Step 2: Ensure the 'Order Date' column is now datetime-like and format it to 'dd-mm-yyyy'\n",
    "Customers['Birthday'] = Customers['Birthday'].dt.strftime('%d-%m-%Y')\n",
    "\n",
    "Customers['Birthday'] = pd.to_datetime(Customers['Birthday'],dayfirst = True)\n",
    "# Step 3: Save the cleaned data back to a new CSV file\n",
    "Customers.to_csv('cleaned_customers_data.csv', index=False)\n",
    "\n",
    "print(\"Customer Date conversion complete. File saved as 'cleaned_cutomers_data.csv'.\")"
   ]
  },
  {
   "cell_type": "code",
   "execution_count": 15,
   "id": "a9915617-7a51-4c71-8fa3-de0153a206e0",
   "metadata": {},
   "outputs": [
    {
     "name": "stdout",
     "output_type": "stream",
     "text": [
      "<class 'pandas.core.frame.DataFrame'>\n",
      "RangeIndex: 15266 entries, 0 to 15265\n",
      "Data columns (total 10 columns):\n",
      " #   Column       Non-Null Count  Dtype         \n",
      "---  ------       --------------  -----         \n",
      " 0   CustomerKey  15266 non-null  int64         \n",
      " 1   Gender       15266 non-null  object        \n",
      " 2   Name         15266 non-null  object        \n",
      " 3   City         15266 non-null  object        \n",
      " 4   State Code   15256 non-null  object        \n",
      " 5   State        15266 non-null  object        \n",
      " 6   Zip Code     15266 non-null  object        \n",
      " 7   Country      15266 non-null  object        \n",
      " 8   Continent    15266 non-null  object        \n",
      " 9   Birthday     15266 non-null  datetime64[ns]\n",
      "dtypes: datetime64[ns](1), int64(1), object(8)\n",
      "memory usage: 1.2+ MB\n"
     ]
    }
   ],
   "source": [
    "Customers.info()"
   ]
  },
  {
   "cell_type": "markdown",
   "id": "ece92332-7605-43fc-bef2-6af773321eac",
   "metadata": {},
   "source": [
    "## Handle Products - Unit Price and Unit Cost - Remove $ symbol,remove spaces after the value & convert the data type into float"
   ]
  },
  {
   "cell_type": "code",
   "execution_count": 16,
   "id": "34bdffd3-a975-45d4-aeac-b9f693219c2c",
   "metadata": {},
   "outputs": [
    {
     "name": "stdout",
     "output_type": "stream",
     "text": [
      "<class 'pandas.core.frame.DataFrame'>\n",
      "RangeIndex: 2517 entries, 0 to 2516\n",
      "Data columns (total 10 columns):\n",
      " #   Column          Non-Null Count  Dtype \n",
      "---  ------          --------------  ----- \n",
      " 0   ProductKey      2517 non-null   int64 \n",
      " 1   Product Name    2517 non-null   object\n",
      " 2   Brand           2517 non-null   object\n",
      " 3   Color           2517 non-null   object\n",
      " 4   Unit Cost USD   2517 non-null   object\n",
      " 5   Unit Price USD  2517 non-null   object\n",
      " 6   SubcategoryKey  2517 non-null   int64 \n",
      " 7   Subcategory     2517 non-null   object\n",
      " 8   CategoryKey     2517 non-null   int64 \n",
      " 9   Category        2517 non-null   object\n",
      "dtypes: int64(3), object(7)\n",
      "memory usage: 196.8+ KB\n"
     ]
    }
   ],
   "source": [
    "Products.info()"
   ]
  },
  {
   "cell_type": "code",
   "execution_count": 17,
   "id": "e3867cb4-4d29-49d9-9d82-ad9c0150f680",
   "metadata": {},
   "outputs": [],
   "source": [
    "# Step 1: Convert the column to strings to ensure string operations work\n",
    "Products['Unit Cost USD'] = Products['Unit Cost USD'].astype(str)\n",
    "\n",
    "# Step 2: Remove dollar signs, commas, and trailing spaces\n",
    "Products['Unit Cost USD'] = Products['Unit Cost USD'].str.replace('$', '', regex=False)  # Remove dollar sign\n",
    "Products['Unit Cost USD'] = Products['Unit Cost USD'].str.replace(',', '', regex=False)  # Remove commas\n",
    "Products['Unit Cost USD'] = Products['Unit Cost USD'].str.rstrip()  # Remove trailing spaces\n",
    "\n",
    "# Step 3: Convert the cleaned column to float\n",
    "Products['Unit Cost USD'] = Products['Unit Cost USD'].astype(float)"
   ]
  },
  {
   "cell_type": "code",
   "execution_count": 18,
   "id": "99fa5402-a889-407e-9203-3cc83c613b65",
   "metadata": {},
   "outputs": [],
   "source": [
    "# Step 1: Convert the column to strings to ensure string operations work\n",
    "Products['Unit Price USD'] = Products['Unit Price USD'].astype(str)\n",
    "\n",
    "# Step 2: Remove dollar signs, commas, and trailing spaces\n",
    "Products['Unit Price USD'] = Products['Unit Price USD'].str.replace('$', '', regex=False)  # Remove dollar sign\n",
    "Products['Unit Price USD'] = Products['Unit Price USD'].str.replace(',', '', regex=False)  # Remove commas\n",
    "Products['Unit Price USD'] = Products['Unit Price USD'].str.rstrip()  # Remove trailing spaces\n",
    "\n",
    "# Step 3: Convert the cleaned column to float\n",
    "Products['Unit Price USD'] = Products['Unit Price USD'].astype(float)"
   ]
  },
  {
   "cell_type": "code",
   "execution_count": 19,
   "id": "06049e5c-1b36-42d5-9656-f83a0f6ae260",
   "metadata": {},
   "outputs": [
    {
     "name": "stdout",
     "output_type": "stream",
     "text": [
      "<class 'pandas.core.frame.DataFrame'>\n",
      "RangeIndex: 2517 entries, 0 to 2516\n",
      "Data columns (total 10 columns):\n",
      " #   Column          Non-Null Count  Dtype  \n",
      "---  ------          --------------  -----  \n",
      " 0   ProductKey      2517 non-null   int64  \n",
      " 1   Product Name    2517 non-null   object \n",
      " 2   Brand           2517 non-null   object \n",
      " 3   Color           2517 non-null   object \n",
      " 4   Unit Cost USD   2517 non-null   float64\n",
      " 5   Unit Price USD  2517 non-null   float64\n",
      " 6   SubcategoryKey  2517 non-null   int64  \n",
      " 7   Subcategory     2517 non-null   object \n",
      " 8   CategoryKey     2517 non-null   int64  \n",
      " 9   Category        2517 non-null   object \n",
      "dtypes: float64(2), int64(3), object(5)\n",
      "memory usage: 196.8+ KB\n"
     ]
    }
   ],
   "source": [
    "Products.info()"
   ]
  },
  {
   "cell_type": "code",
   "execution_count": 20,
   "id": "856a1781-b41f-4ec0-9c02-47b6138a1980",
   "metadata": {},
   "outputs": [
    {
     "name": "stdout",
     "output_type": "stream",
     "text": [
      "price conversion complete. File saved as 'cleaned_products_data.csv'.\n"
     ]
    }
   ],
   "source": [
    "Products.to_csv('cleaned_products_data.csv', index=False)\n",
    "\n",
    "print(\"price conversion complete. File saved as 'cleaned_products_data.csv'.\")"
   ]
  },
  {
   "cell_type": "markdown",
   "id": "44b0eb72-ff78-4b56-a819-a2398ae095b2",
   "metadata": {},
   "source": [
    "## Handle Stores - Open Date - Date format and Data type of Date format change"
   ]
  },
  {
   "cell_type": "code",
   "execution_count": 21,
   "id": "f0509af3-b44c-46c0-92a3-34ed4cb75137",
   "metadata": {},
   "outputs": [
    {
     "name": "stdout",
     "output_type": "stream",
     "text": [
      "<class 'pandas.core.frame.DataFrame'>\n",
      "RangeIndex: 67 entries, 0 to 66\n",
      "Data columns (total 5 columns):\n",
      " #   Column         Non-Null Count  Dtype  \n",
      "---  ------         --------------  -----  \n",
      " 0   StoreKey       67 non-null     int64  \n",
      " 1   Country        67 non-null     object \n",
      " 2   State          67 non-null     object \n",
      " 3   Square Meters  66 non-null     float64\n",
      " 4   Open Date      67 non-null     object \n",
      "dtypes: float64(1), int64(1), object(3)\n",
      "memory usage: 2.7+ KB\n"
     ]
    }
   ],
   "source": [
    "Stores.info()"
   ]
  },
  {
   "cell_type": "code",
   "execution_count": 22,
   "id": "4d11028c-7385-46fc-9368-4762ff303f69",
   "metadata": {},
   "outputs": [
    {
     "name": "stdout",
     "output_type": "stream",
     "text": [
      "Customer Date conversion complete. File saved as 'cleaned_stores_data.csv'.\n"
     ]
    }
   ],
   "source": [
    "def convert_to_date(date_value):\n",
    "    formats = ['%d-%m-%Y', '%m/%d/%Y']  # Define possible formats\n",
    "    for fmt in formats:\n",
    "        try:\n",
    "            return pd.to_datetime(date_value, format=fmt)\n",
    "        except (ValueError, TypeError):\n",
    "            continue\n",
    "    return pd.NaT  # Return NaT if all formats fail\n",
    "\n",
    "# Step 1: Apply the conversion function to the entire 'Order Date' column\n",
    "Stores['Open Date'] = Stores['Open Date'].apply(convert_to_date)\n",
    "# Step 2: Ensure the 'Order Date' column is now datetime-like and format it to 'dd-mm-yyyy'\n",
    "Stores['Open Date'] = Stores['Open Date'].dt.strftime('%d-%m-%Y')\n",
    "\n",
    "Stores['Open Date'] = pd.to_datetime(Stores['Open Date'],dayfirst = True)\n",
    "\n",
    "Stores = Stores.iloc[:-1] #remove the outlier\n",
    "# Step 3: Save the cleaned data back to a new CSV file\n",
    "Stores.to_csv('cleaned_stores_data.csv', index=False)\n",
    "\n",
    "print(\"Customer Date conversion complete. File saved as 'cleaned_stores_data.csv'.\")"
   ]
  },
  {
   "cell_type": "code",
   "execution_count": 23,
   "id": "b2d95fbc-8a5a-4620-8506-25e8e3ceb57c",
   "metadata": {},
   "outputs": [
    {
     "name": "stdout",
     "output_type": "stream",
     "text": [
      "<class 'pandas.core.frame.DataFrame'>\n",
      "RangeIndex: 66 entries, 0 to 65\n",
      "Data columns (total 5 columns):\n",
      " #   Column         Non-Null Count  Dtype         \n",
      "---  ------         --------------  -----         \n",
      " 0   StoreKey       66 non-null     int64         \n",
      " 1   Country        66 non-null     object        \n",
      " 2   State          66 non-null     object        \n",
      " 3   Square Meters  66 non-null     float64       \n",
      " 4   Open Date      66 non-null     datetime64[ns]\n",
      "dtypes: datetime64[ns](1), float64(1), int64(1), object(2)\n",
      "memory usage: 2.7+ KB\n"
     ]
    }
   ],
   "source": [
    "Stores.info()"
   ]
  },
  {
   "cell_type": "markdown",
   "id": "a526bee2-db21-47aa-9203-1dd197692ed7",
   "metadata": {},
   "source": [
    "## Handle Exchange_Rates - Date - Date format and Data type of Date format change"
   ]
  },
  {
   "cell_type": "code",
   "execution_count": 24,
   "id": "581030e0-39c8-46c6-9ab1-4216c7fb4c14",
   "metadata": {},
   "outputs": [
    {
     "name": "stdout",
     "output_type": "stream",
     "text": [
      "<class 'pandas.core.frame.DataFrame'>\n",
      "RangeIndex: 11215 entries, 0 to 11214\n",
      "Data columns (total 3 columns):\n",
      " #   Column    Non-Null Count  Dtype  \n",
      "---  ------    --------------  -----  \n",
      " 0   Date      11215 non-null  object \n",
      " 1   Currency  11215 non-null  object \n",
      " 2   Exchange  11215 non-null  float64\n",
      "dtypes: float64(1), object(2)\n",
      "memory usage: 263.0+ KB\n"
     ]
    }
   ],
   "source": [
    "Exchange_Rates.info()"
   ]
  },
  {
   "cell_type": "code",
   "execution_count": 25,
   "id": "2ecf439c-302e-46db-9bdf-b6490f95e259",
   "metadata": {},
   "outputs": [
    {
     "name": "stdout",
     "output_type": "stream",
     "text": [
      "Customer Date conversion complete. File saved as 'cleaned_Exchange_Rates_data.csv'.\n"
     ]
    }
   ],
   "source": [
    "def convert_to_date(date_value):\n",
    "    formats = ['%d-%m-%Y', '%m/%d/%Y']  # Define possible formats\n",
    "    for fmt in formats:\n",
    "        try:\n",
    "            return pd.to_datetime(date_value, format=fmt)\n",
    "        except (ValueError, TypeError):\n",
    "            continue\n",
    "    return pd.NaT  # Return NaT if all formats fail\n",
    "\n",
    "# Step 1: Apply the conversion function to the entire 'Order Date' column\n",
    "Exchange_Rates['Date'] = Exchange_Rates['Date'].apply(convert_to_date)\n",
    "# Step 2: Ensure the 'Order Date' column is now datetime-like and format it to 'dd-mm-yyyy'\n",
    "Exchange_Rates['Date'] = Exchange_Rates['Date'].dt.strftime('%d-%m-%Y')\n",
    "\n",
    "Exchange_Rates['Date'] = pd.to_datetime(Exchange_Rates['Date'],dayfirst = True)\n",
    "# Step 3: Save the cleaned data back to a new CSV file\n",
    "Exchange_Rates.to_csv('cleaned_Exchange_Rates_data.csv', index=False)\n",
    "\n",
    "print(\"Customer Date conversion complete. File saved as 'cleaned_Exchange_Rates_data.csv'.\")"
   ]
  },
  {
   "cell_type": "markdown",
   "id": "7b1227f9-09ae-481a-a6a9-11da78d089e2",
   "metadata": {},
   "source": [
    "### SQL"
   ]
  },
  {
   "cell_type": "code",
   "execution_count": 26,
   "id": "80441034-d565-417f-9c37-ac1272353b7e",
   "metadata": {},
   "outputs": [
    {
     "name": "stdout",
     "output_type": "stream",
     "text": [
      "Requirement already satisfied: pymysql in c:\\users\\hp\\appdata\\local\\programs\\python\\python312\\lib\\site-packages (1.1.1)\n"
     ]
    },
    {
     "name": "stderr",
     "output_type": "stream",
     "text": [
      "\n",
      "[notice] A new release of pip is available: 24.2 -> 24.3.1\n",
      "[notice] To update, run: python.exe -m pip install --upgrade pip\n"
     ]
    }
   ],
   "source": [
    "!pip install pymysql"
   ]
  },
  {
   "cell_type": "code",
   "execution_count": 27,
   "id": "c276e4df-e259-4afc-b858-f6ad4db81a3f",
   "metadata": {},
   "outputs": [
    {
     "name": "stdout",
     "output_type": "stream",
     "text": [
      "Requirement already satisfied: cryptography in c:\\users\\hp\\appdata\\local\\programs\\python\\python312\\lib\\site-packages (43.0.3)\n",
      "Requirement already satisfied: cffi>=1.12 in c:\\users\\hp\\appdata\\local\\programs\\python\\python312\\lib\\site-packages (from cryptography) (1.17.1)\n",
      "Requirement already satisfied: pycparser in c:\\users\\hp\\appdata\\local\\programs\\python\\python312\\lib\\site-packages (from cffi>=1.12->cryptography) (2.22)\n",
      "Note: you may need to restart the kernel to use updated packages.\n"
     ]
    },
    {
     "name": "stderr",
     "output_type": "stream",
     "text": [
      "\n",
      "[notice] A new release of pip is available: 24.2 -> 24.3.1\n",
      "[notice] To update, run: python.exe -m pip install --upgrade pip\n"
     ]
    }
   ],
   "source": [
    "pip install cryptography"
   ]
  },
  {
   "cell_type": "code",
   "execution_count": 31,
   "id": "bbd20fab-cb83-465a-8bce-750731f379ef",
   "metadata": {},
   "outputs": [
    {
     "name": "stdout",
     "output_type": "stream",
     "text": [
      "Database created successfully\n"
     ]
    }
   ],
   "source": [
    "import pymysql\n",
    "\n",
    "# Establish the database connection\n",
    "mydb = pymysql.connect(\n",
    "    host=\"localhost\",\n",
    "    user=\"root\",\n",
    "    password=\"root\"\n",
    ")\n",
    "\n",
    "# Create a cursor object\n",
    "mycursor = mydb.cursor()\n",
    "\n",
    "# Execute a query to create a new database\n",
    "mycursor.execute(\"CREATE DATABASE Dataspark\")\n",
    "\n",
    "# Optionally, confirm the database was created\n",
    "print(\"Database created successfully\")\n",
    "# Close the cursor and connection\n",
    "mycursor.close()\n",
    "mydb.close()\n"
   ]
  },
  {
   "cell_type": "code",
   "execution_count": 32,
   "id": "07977b69-a850-4a11-a73d-bbfda5100b12",
   "metadata": {},
   "outputs": [
    {
     "name": "stdout",
     "output_type": "stream",
     "text": [
      "Table created successfully!\n"
     ]
    }
   ],
   "source": [
    "import pymysql\n",
    "\n",
    "# Connect to the MySQL server\n",
    "connection = pymysql.connect(\n",
    "    host='localhost',\n",
    "    user='root',  # Replace with your MySQL username\n",
    "    password='root',  # Replace with your MySQL password\n",
    ")\n",
    "\n",
    "# Create a cursor object\n",
    "mycursor = connection.cursor()\n",
    "\n",
    "# Select the database you want to use\n",
    "mycursor.execute(\"USE Dataspark\")\n",
    "\n",
    "# Now create the table\n",
    "mycursor.execute(\"\"\"\n",
    "CREATE TABLE Sales (\n",
    "    Order_Number INT, \n",
    "    Line_Item INT, \n",
    "    Order_Date DATE, \n",
    "    Delivery_Date DATE, \n",
    "    CustomerKey INT, \n",
    "    StoreKey INT, \n",
    "    ProductKey INT, \n",
    "    Quantity INT, \n",
    "    Currency_Code VARCHAR(250)\n",
    ")\n",
    "\"\"\")\n",
    "\n",
    "# Close the connection\n",
    "mycursor.close()\n",
    "connection.close()\n",
    "\n",
    "print(\"Table created successfully!\")"
   ]
  },
  {
   "cell_type": "code",
   "execution_count": 33,
   "id": "b3fef36a-f762-491f-be19-8c4f88f2b7e3",
   "metadata": {},
   "outputs": [
    {
     "name": "stdout",
     "output_type": "stream",
     "text": [
      "   Order Number  Line Item  Order Date Delivery Date  CustomerKey  StoreKey  \\\n",
      "0        366000          1  2016-01-01    2016-01-09       265598        10   \n",
      "1        366001          1  2016-01-01    2016-01-13      1269051         0   \n",
      "2        366001          2  2016-01-01    2016-01-13      1269051         0   \n",
      "3        366002          1  2016-01-01    2016-12-01       266019         0   \n",
      "4        366002          2  2016-01-01    2016-12-01       266019         0   \n",
      "\n",
      "   ProductKey  Quantity Currency Code  \n",
      "0        1304         1           CAD  \n",
      "1        1048         2           USD  \n",
      "2        2007         1           USD  \n",
      "3        1106         7           CAD  \n",
      "4         373         1           CAD  \n",
      "Data inserted successfully!\n"
     ]
    }
   ],
   "source": [
    "import pandas as pd\n",
    "import pymysql\n",
    "\n",
    "# Load data from CSV file\n",
    "csv_file = 'cleaned_sales_data.csv'  # Replace with your CSV file path\n",
    "df = pd.read_csv(csv_file)\n",
    "\n",
    "# Preview the data\n",
    "print(df.head())\n",
    "\n",
    "# Ensure the dates are formatted correctly (optional but recommended)\n",
    "df['Order Date'] = pd.to_datetime(df['Order Date'], errors='coerce').dt.strftime('%Y-%m-%d')\n",
    "df['Delivery Date'] = pd.to_datetime(df['Delivery Date'], errors='coerce').dt.strftime('%Y-%m-%d')\n",
    "\n",
    "# Handle NaN values by replacing them with None (MySQL understands None as NULL)\n",
    "df = df.where(pd.notnull(df), None)\n",
    "\n",
    "# Connect to the MySQL database using pymysql\n",
    "connection = pymysql.connect(\n",
    "    host='localhost',\n",
    "    user='root',  # Replace with your MySQL username\n",
    "    password='root',  # Replace with your MySQL password\n",
    "    database='Dataspark'  # Replace with your MySQL database name\n",
    ")\n",
    "\n",
    "# Create a cursor object\n",
    "cursor = connection.cursor()\n",
    "\n",
    "# Define the SQL insert query\n",
    "insert_query = \"\"\"\n",
    "INSERT INTO Sales (`Order_Number`, `Line_Item`, `Order_Date`, `Delivery_Date`, \n",
    "                    `CustomerKey`, `StoreKey`, `ProductKey`, `Quantity`, `Currency_Code`) \n",
    "                    VALUES (%s, %s, %s, %s, %s, %s, %s, %s, %s)\n",
    "\"\"\"\n",
    "\n",
    "# Iterate through DataFrame and execute the insert statement\n",
    "for index, row in df.iterrows():\n",
    "    try:\n",
    "        # Execute the insert query with the row values\n",
    "        cursor.execute(insert_query, tuple(row))\n",
    "    except pymysql.MySQLError as e:\n",
    "        print(f\"Error inserting row {index}: {e}\")\n",
    "        continue  # Skip this row and continue with the next one\n",
    "\n",
    "# Commit the transaction to save changes\n",
    "connection.commit()\n",
    "\n",
    "# Close the connection\n",
    "cursor.close()\n",
    "connection.close()\n",
    "\n",
    "print(\"Data inserted successfully!\")"
   ]
  },
  {
   "cell_type": "code",
   "execution_count": 34,
   "id": "31f31ee4-7109-4a9c-b3e8-21bdb7e9f74b",
   "metadata": {},
   "outputs": [
    {
     "name": "stdout",
     "output_type": "stream",
     "text": [
      "Table created successfully!\n"
     ]
    }
   ],
   "source": [
    "import pymysql\n",
    "\n",
    "# Connect to the MySQL server\n",
    "connection = pymysql.connect(\n",
    "    host='localhost',\n",
    "    user='root',  # Replace with your MySQL username\n",
    "    password='root',  # Replace with your MySQL password\n",
    ")\n",
    "\n",
    "# Create a cursor object\n",
    "mycursor = connection.cursor()\n",
    "\n",
    "# Select the database you want to use\n",
    "mycursor.execute(\"USE Dataspark\")\n",
    "\n",
    "# Now create the table\n",
    "mycursor.execute(\"\"\"\n",
    "CREATE TABLE Customers (\n",
    "   CustomerKey int, Gender varchar(250), Name varchar(250), City varchar(250), \n",
    "   State_Code varchar(250),State varchar(250),Zip_Code varchar(250), Country varchar(250),\n",
    "   Continent varchar(250),Birthday varchar(250)\n",
    ")\n",
    "\"\"\")\n",
    "\n",
    "# Close the connection\n",
    "mycursor.close()\n",
    "connection.close()\n",
    "\n",
    "print(\"Table created successfully!\")"
   ]
  },
  {
   "cell_type": "code",
   "execution_count": 33,
   "id": "05af01bd-3e73-4d24-9f44-c43943a566e1",
   "metadata": {},
   "outputs": [
    {
     "name": "stdout",
     "output_type": "stream",
     "text": [
      "   CustomerKey  Gender               Name            City State Code  \\\n",
      "0          301  Female      Lilly Harding  WANDEARAH EAST         SA   \n",
      "1          325  Female       Madison Hull      MOUNT BUDD         WA   \n",
      "2          554  Female      Claire Ferres       WINJALLOK        VIC   \n",
      "3          786    Male  Jai Poltpalingada    MIDDLE RIVER         SA   \n",
      "4         1042    Male    Aidan Pankhurst   TAWONGA SOUTH        VIC   \n",
      "\n",
      "               State Zip Code    Country  Continent    Birthday  \n",
      "0    South Australia     5523  Australia  Australia  1939-07-03  \n",
      "1  Western Australia     6522  Australia  Australia  1979-09-27  \n",
      "2           Victoria     3380  Australia  Australia  1947-05-26  \n",
      "3    South Australia     5223  Australia  Australia  1957-09-17  \n",
      "4           Victoria     3698  Australia  Australia  1965-11-19  \n",
      "Data inserted successfully!\n"
     ]
    }
   ],
   "source": [
    "import pandas as pd\n",
    "import pymysql\n",
    "\n",
    "# Load data from CSV file\n",
    "csv_file = 'cleaned_customers_data.csv'  # Replace with your CSV file path\n",
    "df = pd.read_csv(csv_file)\n",
    "\n",
    "# Preview the data\n",
    "print(df.head())\n",
    "\n",
    "# Ensure the dates are formatted correctly (optional but recommended)\n",
    "df['Birthday'] = pd.to_datetime(df['Birthday'], errors='coerce').dt.strftime('%Y-%m-%d')\n",
    "\n",
    "# Handle NaN values by replacing them with None (MySQL understands None as NULL)\n",
    "df = df.where(pd.notnull(df), None)\n",
    "\n",
    "# Connect to the MySQL database using pymysql\n",
    "connection = pymysql.connect(\n",
    "    host='localhost',\n",
    "    user='root',  # Replace with your MySQL username\n",
    "    password='root',  # Replace with your MySQL password\n",
    "    database='Dataspark'  # Replace with your MySQL database name\n",
    ")\n",
    "\n",
    "# Create a cursor object\n",
    "cursor = connection.cursor()\n",
    "\n",
    "# Define the SQL insert query\n",
    "insert_query = \"\"\"\n",
    "INSERT INTO Customers (`CustomerKey`, `Gender`, `Name`, `City`, `State_Code`,\n",
    "                        `State`,`Zip_Code`,`Country`,`Continent`,`Birthday`) \n",
    "                        VALUES (%s, %s, %s, %s, %s, %s, %s, %s, %s, %s)\n",
    "\"\"\"\n",
    "# Iterate through DataFrame and execute the insert statement\n",
    "for index, row in df.iterrows():\n",
    "    try:\n",
    "        # Execute the insert query with the row values\n",
    "        cursor.execute(insert_query, tuple(row))\n",
    "    except pymysql.MySQLError as e:\n",
    "        print(f\"Error inserting row {index}: {e}\")\n",
    "        continue  # Skip this row and continue with the next one\n",
    "\n",
    "# Commit the transaction to save changes\n",
    "connection.commit()\n",
    "\n",
    "# Close the connection\n",
    "cursor.close()\n",
    "connection.close()\n",
    "\n",
    "print(\"Data inserted successfully!\")"
   ]
  },
  {
   "cell_type": "code",
   "execution_count": 35,
   "id": "da0d888d-a23f-4655-9bbb-896182b46060",
   "metadata": {},
   "outputs": [
    {
     "name": "stdout",
     "output_type": "stream",
     "text": [
      "Table created successfully!\n"
     ]
    }
   ],
   "source": [
    "import pymysql\n",
    "\n",
    "# Connect to the MySQL server\n",
    "connection = pymysql.connect(\n",
    "    host='localhost',\n",
    "    user='root',  # Replace with your MySQL username\n",
    "    password='root',  # Replace with your MySQL password\n",
    ")\n",
    "\n",
    "# Create a cursor object\n",
    "mycursor = connection.cursor()\n",
    "\n",
    "# Select the database you want to use\n",
    "mycursor.execute(\"USE Dataspark\")\n",
    "\n",
    "# Now create the table\n",
    "mycursor.execute(\"\"\"\n",
    "CREATE TABLE Products(\n",
    "   ProductKey int,Product_Name varchar(250),Brand varchar(250),Color varchar(250),\n",
    "   Unit_Cost_USD float,Unit_Price_USD float,SubcategoryKey int,Subcategory varchar(250),\n",
    "   CategoryKey int,Category varchar(250)\n",
    "\n",
    ")\n",
    "\"\"\")\n",
    "\n",
    "# Close the connection\n",
    "mycursor.close()\n",
    "connection.close()\n",
    "\n",
    "print(\"Table created successfully!\")"
   ]
  },
  {
   "cell_type": "code",
   "execution_count": 36,
   "id": "4ae17ca0-63c8-4ed8-bd0a-c97b4fa49d65",
   "metadata": {},
   "outputs": [
    {
     "name": "stdout",
     "output_type": "stream",
     "text": [
      "   ProductKey                         Product Name    Brand   Color  \\\n",
      "0           1  Contoso 512MB MP3 Player E51 Silver  Contoso  Silver   \n",
      "1           2    Contoso 512MB MP3 Player E51 Blue  Contoso    Blue   \n",
      "2           3     Contoso 1G MP3 Player E100 White  Contoso   White   \n",
      "3           4    Contoso 2G MP3 Player E200 Silver  Contoso  Silver   \n",
      "4           5       Contoso 2G MP3 Player E200 Red  Contoso     Red   \n",
      "\n",
      "   Unit Cost USD  Unit Price USD  SubcategoryKey Subcategory  CategoryKey  \\\n",
      "0           6.62           12.99             101     MP4&MP3            1   \n",
      "1           6.62           12.99             101     MP4&MP3            1   \n",
      "2           7.40           14.52             101     MP4&MP3            1   \n",
      "3          11.00           21.57             101     MP4&MP3            1   \n",
      "4          11.00           21.57             101     MP4&MP3            1   \n",
      "\n",
      "  Category  \n",
      "0    Audio  \n",
      "1    Audio  \n",
      "2    Audio  \n",
      "3    Audio  \n",
      "4    Audio  \n",
      "Data inserted successfully!\n"
     ]
    }
   ],
   "source": [
    "import pandas as pd\n",
    "import pymysql\n",
    "\n",
    "# Load data from CSV file\n",
    "csv_file = 'cleaned_products_data.csv'  # Replace with your CSV file path\n",
    "df = pd.read_csv(csv_file)\n",
    "\n",
    "# Preview the data\n",
    "print(df.head())\n",
    "\n",
    "# Handle NaN values by replacing them with None (MySQL understands None as NULL)\n",
    "df = df.where(pd.notnull(df), None)\n",
    "\n",
    "# Connect to the MySQL database using pymysql\n",
    "connection = pymysql.connect(\n",
    "    host='localhost',\n",
    "    user='root',  # Replace with your MySQL username\n",
    "    password='root',  # Replace with your MySQL password\n",
    "    database='Dataspark'  # Replace with your MySQL database name\n",
    ")\n",
    "\n",
    "# Create a cursor object\n",
    "cursor = connection.cursor()\n",
    "\n",
    "# Define the SQL insert query\n",
    "insert_query = \"\"\"\n",
    "INSERT INTO Products(`ProductKey`,`Product_Name`,`Brand`,`Color`,`Unit_Cost_USD`,\n",
    "                    `Unit_Price_USD`,`SubcategoryKey`,`Subcategory`,`CategoryKey`,`Category`\n",
    ") \n",
    "VALUES (%s, %s, %s, %s, %s, %s, %s, %s, %s, %s)\n",
    "\"\"\"\n",
    "# Iterate through DataFrame and execute the insert statement\n",
    "for index, row in df.iterrows():\n",
    "    try:\n",
    "        # Execute the insert query with the row values\n",
    "        cursor.execute(insert_query, tuple(row))\n",
    "    except pymysql.MySQLError as e:\n",
    "        print(f\"Error inserting row {index}: {e}\")\n",
    "        continue  # Skip this row and continue with the next one\n",
    "\n",
    "# Commit the transaction to save changes\n",
    "connection.commit()\n",
    "\n",
    "# Close the connection\n",
    "cursor.close()\n",
    "connection.close()\n",
    "\n",
    "print(\"Data inserted successfully!\")"
   ]
  },
  {
   "cell_type": "code",
   "execution_count": 37,
   "id": "18d688ff-aeee-4b86-ba5e-41e8ed0cc316",
   "metadata": {},
   "outputs": [
    {
     "name": "stdout",
     "output_type": "stream",
     "text": [
      "Table created successfully!\n"
     ]
    }
   ],
   "source": [
    "import pymysql\n",
    "\n",
    "# Connect to the MySQL server\n",
    "connection = pymysql.connect(\n",
    "    host='localhost',\n",
    "    user='root',  # Replace with your MySQL username\n",
    "    password='root',  # Replace with your MySQL password\n",
    ")\n",
    "\n",
    "# Create a cursor object\n",
    "mycursor = connection.cursor()\n",
    "\n",
    "# Select the database you want to use\n",
    "mycursor.execute(\"USE Dataspark\")\n",
    "\n",
    "# Now create the table\n",
    "mycursor.execute(\"\"\"\n",
    "CREATE TABLE Stores(\n",
    "   StoreKey int,Country varchar(250),State varchar(250),Square_Meters int,Open_Date date\n",
    "   )\n",
    "\"\"\")\n",
    "# Close the connection\n",
    "mycursor.close()\n",
    "connection.close()\n",
    "\n",
    "print(\"Table created successfully!\")"
   ]
  },
  {
   "cell_type": "code",
   "execution_count": 38,
   "id": "07dac17a-0bd7-49dc-9155-583cf0b0801f",
   "metadata": {},
   "outputs": [
    {
     "name": "stdout",
     "output_type": "stream",
     "text": [
      "   StoreKey    Country                         State  Square Meters  \\\n",
      "0         1  Australia  Australian Capital Territory          595.0   \n",
      "1         2  Australia            Northern Territory          665.0   \n",
      "2         3  Australia               South Australia         2000.0   \n",
      "3         4  Australia                      Tasmania         2000.0   \n",
      "4         5  Australia                      Victoria         2000.0   \n",
      "\n",
      "    Open Date  \n",
      "0  2008-01-01  \n",
      "1  2008-01-12  \n",
      "2  2012-01-07  \n",
      "3  2010-01-01  \n",
      "4  2015-12-09  \n",
      "Data inserted successfully!\n"
     ]
    }
   ],
   "source": [
    "import pandas as pd\n",
    "import pymysql\n",
    "\n",
    "# Load data from CSV file\n",
    "csv_file = 'cleaned_stores_data.csv'  # Replace with your CSV file path\n",
    "df = pd.read_csv(csv_file)\n",
    "\n",
    "# Preview the data\n",
    "print(df.head())\n",
    "\n",
    "# Ensure the dates are formatted correctly (optional but recommended)\n",
    "df['Open Date'] = pd.to_datetime(df['Open Date'], errors='coerce').dt.strftime('%Y-%m-%d')\n",
    "\n",
    "# Handle NaN values by replacing them with None (MySQL understands None as NULL)\n",
    "df = df.where(pd.notnull(df), None)\n",
    "\n",
    "# Connect to the MySQL database using pymysql\n",
    "connection = pymysql.connect(\n",
    "    host='localhost',\n",
    "    user='root',  # Replace with your MySQL username\n",
    "    password='root',  # Replace with your MySQL password\n",
    "    database='Dataspark'  # Replace with your MySQL database name\n",
    ")\n",
    "\n",
    "# Create a cursor object\n",
    "cursor = connection.cursor()\n",
    "\n",
    "# Define the SQL insert query\n",
    "insert_query = \"\"\"\n",
    "INSERT INTO Stores(`StoreKey`, `Country`, `State`, `Square_Meters`, `Open_Date`)\n",
    "VALUES (%s, %s, %s, %s, %s)\n",
    "\"\"\"\n",
    "# Iterate through DataFrame and execute the insert statement\n",
    "for index, row in df.iterrows():\n",
    "    try:\n",
    "        # Execute the insert query with the row values\n",
    "        cursor.execute(insert_query, tuple(row))\n",
    "    except pymysql.MySQLError as e:\n",
    "        print(f\"Error inserting row {index}: {e}\")\n",
    "        continue  # Skip this row and continue with the next one\n",
    "\n",
    "# Commit the transaction to save changes\n",
    "connection.commit()\n",
    "\n",
    "# Close the connection\n",
    "cursor.close()\n",
    "connection.close()\n",
    "\n",
    "print(\"Data inserted successfully!\")"
   ]
  },
  {
   "cell_type": "code",
   "execution_count": 39,
   "id": "b036dbec-8bc7-4fd8-b947-887d46307cce",
   "metadata": {},
   "outputs": [
    {
     "name": "stdout",
     "output_type": "stream",
     "text": [
      "Table created successfully!\n"
     ]
    }
   ],
   "source": [
    "import pymysql\n",
    "\n",
    "# Connect to the MySQL server\n",
    "connection = pymysql.connect(\n",
    "    host='localhost',\n",
    "    user='root',  # Replace with your MySQL username\n",
    "    password='root',  # Replace with your MySQL password\n",
    ")\n",
    "\n",
    "# Create a cursor object\n",
    "mycursor = connection.cursor()\n",
    "\n",
    "# Select the database you want to use\n",
    "mycursor.execute(\"USE Dataspark\")\n",
    "\n",
    "# Now create the table\n",
    "mycursor.execute(\"\"\"\n",
    "CREATE TABLE Exchange_Rate(\n",
    "   Date date,Currency varchar(250),Exchange float\n",
    "   )\n",
    "\"\"\")\n",
    "# Close the connection\n",
    "mycursor.close()\n",
    "connection.close()\n",
    "\n",
    "print(\"Table created successfully!\")"
   ]
  },
  {
   "cell_type": "code",
   "execution_count": 40,
   "id": "27060243-758c-4dae-9098-2a426569080c",
   "metadata": {},
   "outputs": [
    {
     "name": "stdout",
     "output_type": "stream",
     "text": [
      "         Date Currency  Exchange\n",
      "0  2015-01-01      USD    1.0000\n",
      "1  2015-01-01      CAD    1.1583\n",
      "2  2015-01-01      AUD    1.2214\n",
      "3  2015-01-01      EUR    0.8237\n",
      "4  2015-01-01      GBP    0.6415\n",
      "Data inserted successfully!\n"
     ]
    }
   ],
   "source": [
    "import pandas as pd\n",
    "import pymysql\n",
    "\n",
    "# Load data from CSV file\n",
    "csv_file = 'cleaned_Exchange_Rates_data.csv'  # Replace with your CSV file path\n",
    "df = pd.read_csv(csv_file)\n",
    "\n",
    "# Preview the data\n",
    "print(df.head())\n",
    "\n",
    "# Ensure the dates are formatted correctly (optional but recommended)\n",
    "df['Date'] = pd.to_datetime(df['Date'], errors='coerce').dt.strftime('%Y-%m-%d')\n",
    "\n",
    "# Handle NaN values by replacing them with None (MySQL understands None as NULL)\n",
    "df = df.where(pd.notnull(df), None)\n",
    "\n",
    "# Connect to the MySQL database using pymysql\n",
    "connection = pymysql.connect(\n",
    "    host='localhost',\n",
    "    user='root',  # Replace with your MySQL username\n",
    "    password='root',  # Replace with your MySQL password\n",
    "    database='Dataspark'  # Replace with your MySQL database name\n",
    ")\n",
    "\n",
    "# Create a cursor object\n",
    "cursor = connection.cursor()\n",
    "\n",
    "# Define the SQL insert query\n",
    "insert_query = \"\"\"\n",
    "INSERT INTO Exchange_Rate(`Date`, `Currency`, `Exchange`)\n",
    "VALUES (%s, %s, %s)\n",
    "\"\"\"\n",
    "# Iterate through DataFrame and execute the insert statement\n",
    "for index, row in df.iterrows():\n",
    "    try:\n",
    "        # Execute the insert query with the row values\n",
    "        cursor.execute(insert_query, tuple(row))\n",
    "    except pymysql.MySQLError as e:\n",
    "        print(f\"Error inserting row {index}: {e}\")\n",
    "        continue  # Skip this row and continue with the next one\n",
    "\n",
    "# Commit the transaction to save changes\n",
    "connection.commit()\n",
    "\n",
    "# Close the connection\n",
    "cursor.close()\n",
    "connection.close()\n",
    "\n",
    "print(\"Data inserted successfully!\")"
   ]
  },
  {
   "cell_type": "code",
   "execution_count": null,
   "id": "33b56467-ba1f-4813-b036-4f5ca9c45c87",
   "metadata": {},
   "outputs": [],
   "source": []
  },
  {
   "cell_type": "code",
   "execution_count": null,
   "id": "62d4e06b-e001-4eff-aa6e-a760b227e61f",
   "metadata": {},
   "outputs": [],
   "source": []
  },
  {
   "cell_type": "code",
   "execution_count": null,
   "id": "102dc6ef-aa97-4614-8fc7-5a20a9cd50f8",
   "metadata": {},
   "outputs": [],
   "source": []
  }
 ],
 "metadata": {
  "kernelspec": {
   "display_name": "Python 3 (ipykernel)",
   "language": "python",
   "name": "python3"
  },
  "language_info": {
   "codemirror_mode": {
    "name": "ipython",
    "version": 3
   },
   "file_extension": ".py",
   "mimetype": "text/x-python",
   "name": "python",
   "nbconvert_exporter": "python",
   "pygments_lexer": "ipython3",
   "version": "3.12.6"
  }
 },
 "nbformat": 4,
 "nbformat_minor": 5
}
